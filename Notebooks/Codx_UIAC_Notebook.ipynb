{
 "cells": [
  {
   "cell_type": "markdown",
   "metadata": {},
   "source": [
    "## This is your Downloaded Blueprint Notebook ##"
   ]
  },
  {
   "cell_type": "code",
   "execution_count": null,
   "metadata": {},
   "outputs": [],
   "source": [
    "# tags to identify this iteration when submitted\n",
    "# example: codex_tags = {'env': 'dev', 'region': 'USA', 'product_category': 'A'}\n",
    "\n",
    "codex_tags = {\n",
    "}\n",
    "\n",
    "from codex_widget_factory import utils\n",
    "results_json=[]\n",
    "\n"
   ]
  },
  {
   "cell_type": "markdown",
   "metadata": {},
   "source": [
    "### Custom Placeholder"
   ]
  },
  {
   "cell_type": "code",
   "execution_count": null,
   "metadata": {},
   "outputs": [],
   "source": [
    "#BEGIN CUSTOM CODE BELOW...\n",
    "\n",
    "#put your output in this response param for connecting to downstream widgets\n",
    "response_0\n",
    "\n",
    "#END CUSTOM CODE\n",
    "\n"
   ]
  },
  {
   "cell_type": "markdown",
   "metadata": {},
   "source": [
    "### Please save and checkpoint notebook before submitting params"
   ]
  },
  {
   "cell_type": "code",
   "execution_count": null,
   "metadata": {},
   "outputs": [],
   "source": [
    "\n",
    "currentNotebook = 'Health Insurance _202210191428.ipynb'\n",
    "\n",
    "!jupyter nbconvert --to script {currentNotebook} \n",
    "\n"
   ]
  },
  {
   "cell_type": "code",
   "execution_count": null,
   "metadata": {},
   "outputs": [],
   "source": [
    "\n",
    "utils.submit_config_params(url='https://codex-api-stage.azurewebsites.net/codex-api/projects/upload-config-params/PX_urHsRzSzCPau79bOKTA', nb_name=currentNotebook, results=results_json, codex_tags=codex_tags, args={})"
   ]
  }
 ],
 "metadata": {},
 "nbformat": 4,
 "nbformat_minor": 2
}
